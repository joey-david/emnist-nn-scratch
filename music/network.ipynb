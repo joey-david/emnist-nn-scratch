{
 "cells": [
  {
   "cell_type": "code",
   "execution_count": 152,
   "id": "be14ef62",
   "metadata": {},
   "outputs": [
    {
     "name": "stdout",
     "output_type": "stream",
     "text": [
      "{'blues': 0, 'classical': 1, 'country': 2, 'disco': 3, 'hiphop': 4, 'jazz': 5, 'metal': 6, 'pop': 7, 'reggae': 8, 'rock': 9}\n"
     ]
    }
   ],
   "source": [
    "# Setting up the dataset\n",
    "import pandas as pd\n",
    "import numpy as np\n",
    "from sklearn.model_selection import train_test_split\n",
    "\n",
    "df = pd.read_csv(\"dataset/features_3_sec.csv\").drop(columns=[\"filename\", \"length\"])\n",
    "label_to_id = {label : id for id, label in enumerate(sorted(df[\"label\"].unique()))}\n",
    "print(label_to_id)\n",
    "df[\"label_id\"] = df[\"label\"].map(label_to_id)\n",
    "df_train, df_test = train_test_split(\n",
    "    df, test_size=0.10, stratify=df[\"label\"]\n",
    ")\n",
    "\n",
    "x_train = df_train.drop(columns=[\"label\", \"label_id\"]).to_numpy()\n",
    "y_train = df_train[\"label_id\"].to_numpy()\n",
    "x_test = df_test.drop(columns=[\"label\", \"label_id\"]).to_numpy()\n",
    "y_test = df_test[\"label_id\"].to_numpy()\n",
    "# normalize\n",
    "mu = x_train.mean(axis=0)\n",
    "sigma = x_train.std(axis=0) + 1e-8\n",
    "x_train = (x_train - mu) / sigma\n",
    "x_test  = (x_test  - mu) / sigma"
   ]
  },
  {
   "cell_type": "code",
   "execution_count": 119,
   "id": "14fe7455",
   "metadata": {},
   "outputs": [],
   "source": [
    "class NeuralNet:\n",
    "    def __init__(self, input_size, output_size,\n",
    "                 hidden_layer_1_size, hidden_layer_2_size,\n",
    "                 learning_rate):\n",
    "        in_dim = input_size\n",
    "        out = output_size\n",
    "        h1 = hidden_layer_1_size\n",
    "        h2 = hidden_layer_2_size\n",
    "\n",
    "        self.W0 = np.random.randn(h1, in_dim) * np.sqrt(2/in_dim)\n",
    "        self.W1 = np.random.randn(h2, h1)     * np.sqrt(2/h1)\n",
    "        self.W2 = np.random.randn(out, h2)    * np.sqrt(2/h2)\n",
    "        self.b0 = np.zeros(h1)\n",
    "        self.b1 = np.zeros(h2)\n",
    "        self.b2 = np.zeros(out)\n",
    "\n",
    "        # initialize layers for caching\n",
    "        self.L1 = np.zeros(hidden_layer_1_size)\n",
    "        self.L2 = np.zeros(hidden_layer_2_size)\n",
    "        # learning rate\n",
    "        self.lr = learning_rate\n",
    "        \n",
    "    def softmax(self, array):\n",
    "        # Subtract max per row for numerical stability\n",
    "        exps = np.exp(array - np.max(array, axis=-1, keepdims=True))\n",
    "        return exps / exps.sum(axis=-1, keepdims=True)\n",
    "    \n",
    "    def ReLU(self, x):\n",
    "        return (x > 0) * x\n",
    "    \n",
    "    def feed_forward(self, input):\n",
    "        self.L1 = self.ReLU(self.W0 @ input + self.b0)\n",
    "        self.L2 = self.ReLU(self.W1 @ self.L1 + self.b1)\n",
    "        output = self.softmax(self.W2 @ self.L2 + self.b2)\n",
    "        return output\n",
    "    \n",
    "    def backward_pass(self, input, pred, true_one_hot):\n",
    "        # CALCULATE GRADIENTS\n",
    "        # ce loss = -/sum_i (true_i * log(pred_i))\n",
    "        # since one-hot encoded, just leads to cel = -log(pred_true)\n",
    "        # epsilon to avoid floating errors\n",
    "        epsilon = 1e-12\n",
    "        ce_loss = -np.log(pred[np.argmax(true_one_hot)] + epsilon)\n",
    "        # gradient simplifies due to cel\n",
    "        pre_softmax_grad = pred - true_one_hot\n",
    "        # db2/psg = 1\n",
    "        db2 = pre_softmax_grad\n",
    "        # dW2/psg (still unclear - outer product because of singular weight updates?)\n",
    "        dW2 = np.outer(pre_softmax_grad, self.L2)\n",
    "        dL2 = self.W2.T @ pre_softmax_grad * (self.L2 > 0)\n",
    "        db1 = dL2\n",
    "        dW1 = np.outer(dL2, self.L1)\n",
    "        dL1 = self.W1.T @ dL2 * (self.L1 > 0)\n",
    "        db0 = dL1\n",
    "        dW0 = np.outer(dL1, input)\n",
    "        \n",
    "        # ADJUST WEIGHTS\n",
    "        self.W2 -= self.lr * dW2\n",
    "        self.b2 -= self.lr * db2\n",
    "        self.W1 -= self.lr * dW1\n",
    "        self.b1 -= self.lr * db1\n",
    "        self.W0 -= self.lr * dW0\n",
    "        self.b0 -= self.lr * db0\n",
    "        \n",
    "        return ce_loss\n",
    "        \n",
    "    def train(self, x_train, y_train, epochs):\n",
    "        losses = []\n",
    "        for epoch in range(epochs):\n",
    "            loss = 0\n",
    "            for x, y in zip(x_train, y_train):\n",
    "                y_ohe = np.zeros(len(label_to_id))\n",
    "                y_ohe[y] = 1\n",
    "                pred = self.feed_forward(x)\n",
    "                loss += self.backward_pass(x, pred, y_ohe)\n",
    "                loss += loss / len(y_train)\n",
    "            losses.append(loss)\n",
    "        return losses"
   ]
  },
  {
   "cell_type": "code",
   "execution_count": 168,
   "id": "f5aecfef",
   "metadata": {},
   "outputs": [],
   "source": [
    "nn = NeuralNet(input_size=x_train.shape[1],\n",
    "               output_size=len(label_to_id),\n",
    "               hidden_layer_1_size=32,\n",
    "               hidden_layer_2_size=16,\n",
    "               learning_rate=1e-3)\n",
    "losses = nn.train(x_train, y_train, epochs=40)"
   ]
  },
  {
   "cell_type": "code",
   "execution_count": 178,
   "id": "fbb7fc2c",
   "metadata": {},
   "outputs": [
    {
     "name": "stdout",
     "output_type": "stream",
     "text": [
      "Predicted label for first data row in balls.csv: rock\n"
     ]
    }
   ],
   "source": [
    "\n",
    "# open a csv file and load its first non-header row into the network\n",
    "with open(\"balls.csv\", \"r\") as f:\n",
    "    header = f.readline().strip().split(\",\")\n",
    "    first_data_row = f.readline().strip().split(\",\")\n",
    "    first_data_row = [float(x) for x in first_data_row[2:-1]]  # skip filename and length\n",
    "    # Normalize the first_data_row using mu and sigma from training data\n",
    "    first_data_row = (np.array(first_data_row) - mu) / sigma\n",
    "    pred = nn.feed_forward(np.array(first_data_row))\n",
    "\n",
    "# reverse label_to_id mapping\n",
    "id_to_label = {id: label for label, id in label_to_id.items()}\n",
    "pred_label = id_to_label[int(np.argmax(pred))]\n",
    "print(f\"Predicted label for first data row in balls.csv: {pred_label}\")\n"
   ]
  },
  {
   "cell_type": "code",
   "execution_count": 169,
   "id": "78ec8792",
   "metadata": {},
   "outputs": [
    {
     "data": {
      "image/png": "[encoded data removed]",
      "text/plain": [
       "<Figure size 1000x400 with 1 Axes>"
      ]
     },
     "metadata": {},
     "output_type": "display_data"
    }
   ],
   "source": [
    "import matplotlib.pyplot as plt\n",
    "plt.figure(figsize=(10, 4))\n",
    "plt.plot(losses)\n",
    "plt.xlabel(\"Epoch\")\n",
    "plt.ylabel(\"CELoss\")\n",
    "plt.title(\"Training Loss\")\n",
    "plt.tight_layout()\n",
    "# plt.savefig(\"training_loss.png\")"
   ]
  }
 ],
 "metadata": {
  "kernelspec": {
   "display_name": ".venv",
   "language": "python",
   "name": "python3"
  },
  "language_info": {
   "codemirror_mode": {
    "name": "ipython",
    "version": 3
   },
   "file_extension": ".py",
   "mimetype": "text/x-python",
   "name": "python",
   "nbconvert_exporter": "python",
   "pygments_lexer": "ipython3",
   "version": "3.10.12"
  }
 },
 "nbformat": 4,
 "nbformat_minor": 5
}
